{
 "cells": [
  {
   "cell_type": "markdown",
   "id": "7b6c203f-43dd-451a-9a82-892ec94d8f3f",
   "metadata": {},
   "source": [
    "## Data Analysis with Pandas"
   ]
  },
  {
   "cell_type": "code",
   "execution_count": 1,
   "id": "d0e484ec-a882-466d-ae14-7edff1bd7595",
   "metadata": {},
   "outputs": [],
   "source": [
    "import pandas as pd\n",
    "import numpy as np"
   ]
  },
  {
   "cell_type": "code",
   "execution_count": 6,
   "id": "56a9f9a3-d449-4858-8615-03ff879e41ac",
   "metadata": {},
   "outputs": [],
   "source": [
    "df = pd.read_csv('./assets/vgsales.csv')"
   ]
  },
  {
   "cell_type": "markdown",
   "id": "1583ecde-17da-48df-bdaa-88783c357775",
   "metadata": {},
   "source": [
    "## Which company is the most common video game publisher?"
   ]
  },
  {
   "cell_type": "code",
   "execution_count": 14,
   "id": "9a91fd5d-cd94-4fe3-9738-e2ea6c90c6a6",
   "metadata": {},
   "outputs": [
    {
     "data": {
      "text/plain": [
       "'Electronic Arts'"
      ]
     },
     "execution_count": 14,
     "metadata": {},
     "output_type": "execute_result"
    }
   ],
   "source": [
    "df['Publisher'].describe().top"
   ]
  },
  {
   "cell_type": "markdown",
   "id": "e23d893a-8307-48a4-bfa5-cb69ba78e716",
   "metadata": {},
   "source": [
    "## What’s the most common platform?"
   ]
  },
  {
   "cell_type": "code",
   "execution_count": 16,
   "id": "15674892-c9d3-483b-8308-a4c2856d2505",
   "metadata": {},
   "outputs": [
    {
     "data": {
      "text/plain": [
       "'DS'"
      ]
     },
     "execution_count": 16,
     "metadata": {},
     "output_type": "execute_result"
    }
   ],
   "source": [
    "df['Platform'].describe().top"
   ]
  },
  {
   "cell_type": "markdown",
   "id": "58fb0644-3676-4208-98e3-5dca223ba79f",
   "metadata": {},
   "source": [
    "## What about the most common genre?"
   ]
  },
  {
   "cell_type": "code",
   "execution_count": 18,
   "id": "ca7ce8b5-887d-4e67-af5f-4f534ac4761f",
   "metadata": {},
   "outputs": [
    {
     "data": {
      "text/plain": [
       "'Action'"
      ]
     },
     "execution_count": 18,
     "metadata": {},
     "output_type": "execute_result"
    }
   ],
   "source": [
    "df['Genre'].describe().top"
   ]
  },
  {
   "cell_type": "markdown",
   "id": "8769d410-9b78-427d-80c4-6ba8f8263965",
   "metadata": {},
   "source": [
    "## What are the top 20 highest grossing games?"
   ]
  },
  {
   "cell_type": "code",
   "execution_count": 22,
   "id": "1bd33aa9-b53d-4874-8c9e-c37c19a5b6cf",
   "metadata": {},
   "outputs": [
    {
     "data": {
      "text/html": [
       "<div>\n",
       "<style scoped>\n",
       "    .dataframe tbody tr th:only-of-type {\n",
       "        vertical-align: middle;\n",
       "    }\n",
       "\n",
       "    .dataframe tbody tr th {\n",
       "        vertical-align: top;\n",
       "    }\n",
       "\n",
       "    .dataframe thead th {\n",
       "        text-align: right;\n",
       "    }\n",
       "</style>\n",
       "<table border=\"1\" class=\"dataframe\">\n",
       "  <thead>\n",
       "    <tr style=\"text-align: right;\">\n",
       "      <th></th>\n",
       "      <th></th>\n",
       "      <th></th>\n",
       "      <th>Rank</th>\n",
       "    </tr>\n",
       "    <tr>\n",
       "      <th>Rank</th>\n",
       "      <th>Name</th>\n",
       "      <th>Global_Sales</th>\n",
       "      <th></th>\n",
       "    </tr>\n",
       "  </thead>\n",
       "  <tbody>\n",
       "    <tr>\n",
       "      <th>1</th>\n",
       "      <th>Wii Sports</th>\n",
       "      <th>82.74</th>\n",
       "      <td>1</td>\n",
       "    </tr>\n",
       "    <tr>\n",
       "      <th>2</th>\n",
       "      <th>Super Mario Bros.</th>\n",
       "      <th>40.24</th>\n",
       "      <td>2</td>\n",
       "    </tr>\n",
       "    <tr>\n",
       "      <th>3</th>\n",
       "      <th>Mario Kart Wii</th>\n",
       "      <th>35.82</th>\n",
       "      <td>3</td>\n",
       "    </tr>\n",
       "    <tr>\n",
       "      <th>4</th>\n",
       "      <th>Wii Sports Resort</th>\n",
       "      <th>33.00</th>\n",
       "      <td>4</td>\n",
       "    </tr>\n",
       "    <tr>\n",
       "      <th>5</th>\n",
       "      <th>Pokemon Red/Pokemon Blue</th>\n",
       "      <th>31.37</th>\n",
       "      <td>5</td>\n",
       "    </tr>\n",
       "    <tr>\n",
       "      <th>6</th>\n",
       "      <th>Tetris</th>\n",
       "      <th>30.26</th>\n",
       "      <td>6</td>\n",
       "    </tr>\n",
       "    <tr>\n",
       "      <th>7</th>\n",
       "      <th>New Super Mario Bros.</th>\n",
       "      <th>30.01</th>\n",
       "      <td>7</td>\n",
       "    </tr>\n",
       "    <tr>\n",
       "      <th>8</th>\n",
       "      <th>Wii Play</th>\n",
       "      <th>29.02</th>\n",
       "      <td>8</td>\n",
       "    </tr>\n",
       "    <tr>\n",
       "      <th>9</th>\n",
       "      <th>New Super Mario Bros. Wii</th>\n",
       "      <th>28.62</th>\n",
       "      <td>9</td>\n",
       "    </tr>\n",
       "    <tr>\n",
       "      <th>10</th>\n",
       "      <th>Duck Hunt</th>\n",
       "      <th>28.31</th>\n",
       "      <td>10</td>\n",
       "    </tr>\n",
       "    <tr>\n",
       "      <th>11</th>\n",
       "      <th>Nintendogs</th>\n",
       "      <th>24.76</th>\n",
       "      <td>11</td>\n",
       "    </tr>\n",
       "    <tr>\n",
       "      <th>12</th>\n",
       "      <th>Mario Kart DS</th>\n",
       "      <th>23.42</th>\n",
       "      <td>12</td>\n",
       "    </tr>\n",
       "    <tr>\n",
       "      <th>13</th>\n",
       "      <th>Pokemon Gold/Pokemon Silver</th>\n",
       "      <th>23.10</th>\n",
       "      <td>13</td>\n",
       "    </tr>\n",
       "    <tr>\n",
       "      <th>14</th>\n",
       "      <th>Wii Fit</th>\n",
       "      <th>22.72</th>\n",
       "      <td>14</td>\n",
       "    </tr>\n",
       "    <tr>\n",
       "      <th>15</th>\n",
       "      <th>Wii Fit Plus</th>\n",
       "      <th>22.00</th>\n",
       "      <td>15</td>\n",
       "    </tr>\n",
       "    <tr>\n",
       "      <th>16</th>\n",
       "      <th>Kinect Adventures!</th>\n",
       "      <th>21.82</th>\n",
       "      <td>16</td>\n",
       "    </tr>\n",
       "    <tr>\n",
       "      <th>17</th>\n",
       "      <th>Grand Theft Auto V</th>\n",
       "      <th>21.40</th>\n",
       "      <td>17</td>\n",
       "    </tr>\n",
       "    <tr>\n",
       "      <th>18</th>\n",
       "      <th>Grand Theft Auto: San Andreas</th>\n",
       "      <th>20.81</th>\n",
       "      <td>18</td>\n",
       "    </tr>\n",
       "    <tr>\n",
       "      <th>19</th>\n",
       "      <th>Super Mario World</th>\n",
       "      <th>20.61</th>\n",
       "      <td>19</td>\n",
       "    </tr>\n",
       "    <tr>\n",
       "      <th>20</th>\n",
       "      <th>Brain Age: Train Your Brain in Minutes a Day</th>\n",
       "      <th>20.22</th>\n",
       "      <td>20</td>\n",
       "    </tr>\n",
       "  </tbody>\n",
       "</table>\n",
       "</div>"
      ],
      "text/plain": [
       "                                                                Rank\n",
       "Rank Name                                         Global_Sales      \n",
       "1    Wii Sports                                   82.74            1\n",
       "2    Super Mario Bros.                            40.24            2\n",
       "3    Mario Kart Wii                               35.82            3\n",
       "4    Wii Sports Resort                            33.00            4\n",
       "5    Pokemon Red/Pokemon Blue                     31.37            5\n",
       "6    Tetris                                       30.26            6\n",
       "7    New Super Mario Bros.                        30.01            7\n",
       "8    Wii Play                                     29.02            8\n",
       "9    New Super Mario Bros. Wii                    28.62            9\n",
       "10   Duck Hunt                                    28.31           10\n",
       "11   Nintendogs                                   24.76           11\n",
       "12   Mario Kart DS                                23.42           12\n",
       "13   Pokemon Gold/Pokemon Silver                  23.10           13\n",
       "14   Wii Fit                                      22.72           14\n",
       "15   Wii Fit Plus                                 22.00           15\n",
       "16   Kinect Adventures!                           21.82           16\n",
       "17   Grand Theft Auto V                           21.40           17\n",
       "18   Grand Theft Auto: San Andreas                20.81           18\n",
       "19   Super Mario World                            20.61           19\n",
       "20   Brain Age: Train Your Brain in Minutes a Day 20.22           20"
      ]
     },
     "execution_count": 22,
     "metadata": {},
     "output_type": "execute_result"
    }
   ],
   "source": [
    "df.head(20).groupby(['Rank','Name','Global_Sales']).agg({'Rank':'max'})"
   ]
  },
  {
   "cell_type": "markdown",
   "id": "0b8ea045-308e-4ebd-a6c6-81ff4f555b57",
   "metadata": {},
   "source": [
    "## For North American video game sales, what’s the median?"
   ]
  },
  {
   "cell_type": "code",
   "execution_count": 24,
   "id": "edba8b52-e0c8-4426-ba74-074f2f25f37a",
   "metadata": {},
   "outputs": [
    {
     "data": {
      "text/plain": [
       "0.08"
      ]
     },
     "execution_count": 24,
     "metadata": {},
     "output_type": "execute_result"
    }
   ],
   "source": [
    "df['NA_Sales'].median()"
   ]
  },
  {
   "cell_type": "code",
   "execution_count": 25,
   "id": "70415c46-3f86-4ac2-84fa-8818664ef9ee",
   "metadata": {},
   "outputs": [
    {
     "data": {
      "text/html": [
       "<div>\n",
       "<style scoped>\n",
       "    .dataframe tbody tr th:only-of-type {\n",
       "        vertical-align: middle;\n",
       "    }\n",
       "\n",
       "    .dataframe tbody tr th {\n",
       "        vertical-align: top;\n",
       "    }\n",
       "\n",
       "    .dataframe thead th {\n",
       "        text-align: right;\n",
       "    }\n",
       "</style>\n",
       "<table border=\"1\" class=\"dataframe\">\n",
       "  <thead>\n",
       "    <tr style=\"text-align: right;\">\n",
       "      <th></th>\n",
       "      <th>Rank</th>\n",
       "      <th>Name</th>\n",
       "      <th>Platform</th>\n",
       "      <th>Year</th>\n",
       "      <th>Genre</th>\n",
       "      <th>Publisher</th>\n",
       "      <th>NA_Sales</th>\n",
       "      <th>EU_Sales</th>\n",
       "      <th>JP_Sales</th>\n",
       "      <th>Other_Sales</th>\n",
       "      <th>Global_Sales</th>\n",
       "    </tr>\n",
       "  </thead>\n",
       "  <tbody>\n",
       "    <tr>\n",
       "      <th>82</th>\n",
       "      <td>83</td>\n",
       "      <td>FIFA Soccer 13</td>\n",
       "      <td>PS3</td>\n",
       "      <td>2012.0</td>\n",
       "      <td>Action</td>\n",
       "      <td>Electronic Arts</td>\n",
       "      <td>1.06</td>\n",
       "      <td>5.05</td>\n",
       "      <td>0.13</td>\n",
       "      <td>2.01</td>\n",
       "      <td>8.24</td>\n",
       "    </tr>\n",
       "    <tr>\n",
       "      <th>83</th>\n",
       "      <td>84</td>\n",
       "      <td>The Sims 3</td>\n",
       "      <td>PC</td>\n",
       "      <td>2009.0</td>\n",
       "      <td>Simulation</td>\n",
       "      <td>Electronic Arts</td>\n",
       "      <td>0.98</td>\n",
       "      <td>6.42</td>\n",
       "      <td>0.00</td>\n",
       "      <td>0.71</td>\n",
       "      <td>8.11</td>\n",
       "    </tr>\n",
       "    <tr>\n",
       "      <th>112</th>\n",
       "      <td>113</td>\n",
       "      <td>FIFA 14</td>\n",
       "      <td>PS3</td>\n",
       "      <td>2013.0</td>\n",
       "      <td>Sports</td>\n",
       "      <td>Electronic Arts</td>\n",
       "      <td>0.78</td>\n",
       "      <td>4.32</td>\n",
       "      <td>0.07</td>\n",
       "      <td>1.73</td>\n",
       "      <td>6.90</td>\n",
       "    </tr>\n",
       "    <tr>\n",
       "      <th>121</th>\n",
       "      <td>122</td>\n",
       "      <td>FIFA 12</td>\n",
       "      <td>PS3</td>\n",
       "      <td>2011.0</td>\n",
       "      <td>Sports</td>\n",
       "      <td>Electronic Arts</td>\n",
       "      <td>0.84</td>\n",
       "      <td>4.32</td>\n",
       "      <td>0.11</td>\n",
       "      <td>1.42</td>\n",
       "      <td>6.69</td>\n",
       "    </tr>\n",
       "    <tr>\n",
       "      <th>124</th>\n",
       "      <td>125</td>\n",
       "      <td>FIFA 15</td>\n",
       "      <td>PS4</td>\n",
       "      <td>2014.0</td>\n",
       "      <td>Sports</td>\n",
       "      <td>Electronic Arts</td>\n",
       "      <td>0.79</td>\n",
       "      <td>4.29</td>\n",
       "      <td>0.05</td>\n",
       "      <td>1.47</td>\n",
       "      <td>6.59</td>\n",
       "    </tr>\n",
       "    <tr>\n",
       "      <th>137</th>\n",
       "      <td>138</td>\n",
       "      <td>World of Warcraft</td>\n",
       "      <td>PC</td>\n",
       "      <td>2004.0</td>\n",
       "      <td>Role-Playing</td>\n",
       "      <td>Activision</td>\n",
       "      <td>0.07</td>\n",
       "      <td>6.21</td>\n",
       "      <td>0.00</td>\n",
       "      <td>0.00</td>\n",
       "      <td>6.28</td>\n",
       "    </tr>\n",
       "    <tr>\n",
       "      <th>149</th>\n",
       "      <td>150</td>\n",
       "      <td>Dragon Quest IX: Sentinels of the Starry Skies</td>\n",
       "      <td>DS</td>\n",
       "      <td>2009.0</td>\n",
       "      <td>Role-Playing</td>\n",
       "      <td>Nintendo</td>\n",
       "      <td>0.66</td>\n",
       "      <td>0.69</td>\n",
       "      <td>4.35</td>\n",
       "      <td>0.15</td>\n",
       "      <td>5.84</td>\n",
       "    </tr>\n",
       "    <tr>\n",
       "      <th>161</th>\n",
       "      <td>162</td>\n",
       "      <td>Monster Hunter Freedom Unite</td>\n",
       "      <td>PSP</td>\n",
       "      <td>2008.0</td>\n",
       "      <td>Role-Playing</td>\n",
       "      <td>Capcom</td>\n",
       "      <td>0.47</td>\n",
       "      <td>0.57</td>\n",
       "      <td>4.13</td>\n",
       "      <td>0.34</td>\n",
       "      <td>5.50</td>\n",
       "    </tr>\n",
       "    <tr>\n",
       "      <th>180</th>\n",
       "      <td>181</td>\n",
       "      <td>Dragon Quest VIII: Journey of the Cursed King</td>\n",
       "      <td>PS2</td>\n",
       "      <td>2004.0</td>\n",
       "      <td>Role-Playing</td>\n",
       "      <td>Square Enix</td>\n",
       "      <td>0.65</td>\n",
       "      <td>0.75</td>\n",
       "      <td>3.61</td>\n",
       "      <td>0.20</td>\n",
       "      <td>5.21</td>\n",
       "    </tr>\n",
       "    <tr>\n",
       "      <th>185</th>\n",
       "      <td>186</td>\n",
       "      <td>FIFA Soccer 13</td>\n",
       "      <td>X360</td>\n",
       "      <td>2012.0</td>\n",
       "      <td>Action</td>\n",
       "      <td>Electronic Arts</td>\n",
       "      <td>1.08</td>\n",
       "      <td>3.48</td>\n",
       "      <td>0.03</td>\n",
       "      <td>0.58</td>\n",
       "      <td>5.18</td>\n",
       "    </tr>\n",
       "  </tbody>\n",
       "</table>\n",
       "</div>"
      ],
      "text/plain": [
       "     Rank                                            Name Platform    Year  \\\n",
       "82     83                                  FIFA Soccer 13      PS3  2012.0   \n",
       "83     84                                      The Sims 3       PC  2009.0   \n",
       "112   113                                         FIFA 14      PS3  2013.0   \n",
       "121   122                                         FIFA 12      PS3  2011.0   \n",
       "124   125                                         FIFA 15      PS4  2014.0   \n",
       "137   138                               World of Warcraft       PC  2004.0   \n",
       "149   150  Dragon Quest IX: Sentinels of the Starry Skies       DS  2009.0   \n",
       "161   162                    Monster Hunter Freedom Unite      PSP  2008.0   \n",
       "180   181   Dragon Quest VIII: Journey of the Cursed King      PS2  2004.0   \n",
       "185   186                                  FIFA Soccer 13     X360  2012.0   \n",
       "\n",
       "            Genre        Publisher  NA_Sales  EU_Sales  JP_Sales  Other_Sales  \\\n",
       "82         Action  Electronic Arts      1.06      5.05      0.13         2.01   \n",
       "83     Simulation  Electronic Arts      0.98      6.42      0.00         0.71   \n",
       "112        Sports  Electronic Arts      0.78      4.32      0.07         1.73   \n",
       "121        Sports  Electronic Arts      0.84      4.32      0.11         1.42   \n",
       "124        Sports  Electronic Arts      0.79      4.29      0.05         1.47   \n",
       "137  Role-Playing       Activision      0.07      6.21      0.00         0.00   \n",
       "149  Role-Playing         Nintendo      0.66      0.69      4.35         0.15   \n",
       "161  Role-Playing           Capcom      0.47      0.57      4.13         0.34   \n",
       "180  Role-Playing      Square Enix      0.65      0.75      3.61         0.20   \n",
       "185        Action  Electronic Arts      1.08      3.48      0.03         0.58   \n",
       "\n",
       "     Global_Sales  \n",
       "82           8.24  \n",
       "83           8.11  \n",
       "112          6.90  \n",
       "121          6.69  \n",
       "124          6.59  \n",
       "137          6.28  \n",
       "149          5.84  \n",
       "161          5.50  \n",
       "180          5.21  \n",
       "185          5.18  "
      ]
     },
     "execution_count": 25,
     "metadata": {},
     "output_type": "execute_result"
    }
   ],
   "source": [
    "NA_sales = df['NA_Sales']\n",
    "\n",
    "median =NA_sales.median()\n",
    "\n",
    "df[(NA_sales <= median+1) & (NA_sales >= median-1)].head(10)"
   ]
  },
  {
   "cell_type": "markdown",
   "id": "b3914e8a-d3aa-4504-8eb2-91612e59b6aa",
   "metadata": {},
   "source": [
    "## For the top-selling game of all time, how many standard deviations above/below the mean are its sales for North America?"
   ]
  },
  {
   "cell_type": "code",
   "execution_count": 28,
   "id": "6e63ac71-3ec8-49eb-8bf9-3dd70eda6bd2",
   "metadata": {},
   "outputs": [
    {
     "data": {
      "text/plain": [
       "50.47898767479108"
      ]
     },
     "execution_count": 28,
     "metadata": {},
     "output_type": "execute_result"
    }
   ],
   "source": [
    "NA=df['NA_Sales']\n",
    "NA_mean = NA.mean()\n",
    "std = NA.std()\n",
    "MAX = NA.max()\n",
    "result = (MAX - NA_mean)/std\n",
    "result"
   ]
  },
  {
   "cell_type": "markdown",
   "id": "13bbc79c-28d6-45d4-a32a-65d4a1bb1dbb",
   "metadata": {},
   "source": [
    "## The Nintendo Wii seems to have outdone itself with games. How does its average number of sales compare with all of the other platforms?"
   ]
  },
  {
   "cell_type": "code",
   "execution_count": 29,
   "id": "c7a7122f-1e47-4ee7-b328-933ff4c6586d",
   "metadata": {},
   "outputs": [
    {
     "data": {
      "text/plain": [
       "(0.5233896418516336, 0.6994037735849057)"
      ]
     },
     "execution_count": 29,
     "metadata": {},
     "output_type": "execute_result"
    }
   ],
   "source": [
    "w =df[df['Platform']=='Wii']\n",
    "ELSE =df[df['Platform'] != 'Wii']\n",
    "(ELSE.mean().Global_Sales,w.mean().Global_Sales)"
   ]
  },
  {
   "cell_type": "code",
   "execution_count": null,
   "id": "55ab225e-fc0e-4ed1-ac4e-cb4a5bd38509",
   "metadata": {},
   "outputs": [],
   "source": []
  }
 ],
 "metadata": {
  "kernelspec": {
   "display_name": "Python 3",
   "language": "python",
   "name": "python3"
  },
  "language_info": {
   "codemirror_mode": {
    "name": "ipython",
    "version": 3
   },
   "file_extension": ".py",
   "mimetype": "text/x-python",
   "name": "python",
   "nbconvert_exporter": "python",
   "pygments_lexer": "ipython3",
   "version": "3.9.4"
  }
 },
 "nbformat": 4,
 "nbformat_minor": 5
}
