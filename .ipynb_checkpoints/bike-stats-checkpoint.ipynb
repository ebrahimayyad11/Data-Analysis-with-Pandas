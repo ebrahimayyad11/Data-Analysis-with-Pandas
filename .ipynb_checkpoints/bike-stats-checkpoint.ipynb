{
 "cells": [
  {
   "cell_type": "markdown",
   "id": "4cd0fef2-e52b-47ed-aced-b56194fe925f",
   "metadata": {},
   "source": [
    "## Data Analysis with Pandas"
   ]
  },
  {
   "cell_type": "code",
   "execution_count": 1,
   "id": "741b539b-c5c3-4dc9-9925-93865f57bc0a",
   "metadata": {},
   "outputs": [],
   "source": [
    "import pandas as pd\n",
    "import numpy as np"
   ]
  },
  {
   "cell_type": "code",
   "execution_count": 2,
   "id": "7e14d50b-6770-48dd-8e68-56c52a4bc954",
   "metadata": {},
   "outputs": [],
   "source": [
    "df1 = pd.read_csv('./assets/station.csv')\n",
    "df2 = pd.read_csv('./assets/trip.csv',warn_bad_lines=False ,error_bad_lines=False)\n",
    "df3 = pd.read_csv('./assets/weather.csv')"
   ]
  },
  {
   "cell_type": "markdown",
   "id": "15fc28cb-d6f7-402c-a992-69456fb5553b",
   "metadata": {},
   "source": [
    "## What is the average trip duration for a borrowed bicycle?"
   ]
  },
  {
   "cell_type": "code",
   "execution_count": 3,
   "id": "7656e599-29a9-40b8-9808-46f10b9c611b",
   "metadata": {},
   "outputs": [
    {
     "data": {
      "text/plain": [
       "1178.2956753399776"
      ]
     },
     "execution_count": 3,
     "metadata": {},
     "output_type": "execute_result"
    }
   ],
   "source": [
    "df2['tripduration'].mean()"
   ]
  },
  {
   "cell_type": "markdown",
   "id": "0667db06-d3ee-4dc7-82ed-a13769fb028d",
   "metadata": {},
   "source": [
    "## What’s the most common age of a bicycle-sharer?"
   ]
  },
  {
   "cell_type": "code",
   "execution_count": 4,
   "id": "c5629263-43e8-4261-8652-01d5d0eacec6",
   "metadata": {},
   "outputs": [
    {
     "data": {
      "text/plain": [
       "34"
      ]
     },
     "execution_count": 4,
     "metadata": {},
     "output_type": "execute_result"
    }
   ],
   "source": [
    "age = 2021 - df2['birthyear'].mode()[0]\n",
    "int(age)"
   ]
  },
  {
   "cell_type": "markdown",
   "id": "a3677cd4-0224-4f79-9e3c-b45591933388",
   "metadata": {},
   "source": [
    "## Given all the weather data here, find the average precipitation per month, and the median precipitation."
   ]
  },
  {
   "cell_type": "code",
   "execution_count": 12,
   "id": "1b576a0a-e017-4aaa-8f48-985f444ce1b5",
   "metadata": {},
   "outputs": [
    {
     "data": {
      "text/plain": [
       "0.10506531204644412"
      ]
     },
     "execution_count": 12,
     "metadata": {},
     "output_type": "execute_result"
    }
   ],
   "source": [
    "month = df3['Precipitation_In']\n",
    "avg=month.mean()\n",
    "avg"
   ]
  },
  {
   "cell_type": "markdown",
   "id": "e26750cf-03af-433b-a110-f84cc188d3ce",
   "metadata": {},
   "source": [
    "## What’s the average number of bikes at a given bike station?"
   ]
  },
  {
   "cell_type": "code",
   "execution_count": 14,
   "id": "a21fa768-7f85-4a3f-8f54-e785daac24ad",
   "metadata": {},
   "outputs": [
    {
     "data": {
      "text/plain": [
       "17.586206896551722"
      ]
     },
     "execution_count": 14,
     "metadata": {},
     "output_type": "execute_result"
    }
   ],
   "source": [
    "df1.mean().install_dockcount"
   ]
  },
  {
   "cell_type": "markdown",
   "id": "ca8b05af-e835-431e-8234-0155313c62d9",
   "metadata": {},
   "source": [
    "## When a bike station is modified, is it more likely that it’ll lose bikes or gain bikes? How do you know?"
   ]
  },
  {
   "cell_type": "code",
   "execution_count": 19,
   "id": "33738b1f-d741-44fa-868d-511fc5f79bf0",
   "metadata": {},
   "outputs": [
    {
     "data": {
      "text/html": [
       "<div>\n",
       "<style scoped>\n",
       "    .dataframe tbody tr th:only-of-type {\n",
       "        vertical-align: middle;\n",
       "    }\n",
       "\n",
       "    .dataframe tbody tr th {\n",
       "        vertical-align: top;\n",
       "    }\n",
       "\n",
       "    .dataframe thead th {\n",
       "        text-align: right;\n",
       "    }\n",
       "</style>\n",
       "<table border=\"1\" class=\"dataframe\">\n",
       "  <thead>\n",
       "    <tr style=\"text-align: right;\">\n",
       "      <th></th>\n",
       "      <th>modification_date</th>\n",
       "      <th>install_dockcount</th>\n",
       "      <th>current_dockcount</th>\n",
       "    </tr>\n",
       "  </thead>\n",
       "  <tbody>\n",
       "    <tr>\n",
       "      <th>7</th>\n",
       "      <td>11/9/2015</td>\n",
       "      <td>20</td>\n",
       "      <td>18</td>\n",
       "    </tr>\n",
       "    <tr>\n",
       "      <th>10</th>\n",
       "      <td>8/9/2016</td>\n",
       "      <td>16</td>\n",
       "      <td>0</td>\n",
       "    </tr>\n",
       "    <tr>\n",
       "      <th>12</th>\n",
       "      <td>2/24/2015</td>\n",
       "      <td>18</td>\n",
       "      <td>20</td>\n",
       "    </tr>\n",
       "    <tr>\n",
       "      <th>17</th>\n",
       "      <td>2/24/2015</td>\n",
       "      <td>28</td>\n",
       "      <td>26</td>\n",
       "    </tr>\n",
       "    <tr>\n",
       "      <th>22</th>\n",
       "      <td>3/24/2015</td>\n",
       "      <td>30</td>\n",
       "      <td>24</td>\n",
       "    </tr>\n",
       "    <tr>\n",
       "      <th>23</th>\n",
       "      <td>3/27/2015</td>\n",
       "      <td>12</td>\n",
       "      <td>16</td>\n",
       "    </tr>\n",
       "    <tr>\n",
       "      <th>26</th>\n",
       "      <td>3/18/2016</td>\n",
       "      <td>16</td>\n",
       "      <td>0</td>\n",
       "    </tr>\n",
       "    <tr>\n",
       "      <th>31</th>\n",
       "      <td>2/24/2015</td>\n",
       "      <td>18</td>\n",
       "      <td>20</td>\n",
       "    </tr>\n",
       "    <tr>\n",
       "      <th>35</th>\n",
       "      <td>3/13/2015</td>\n",
       "      <td>12</td>\n",
       "      <td>20</td>\n",
       "    </tr>\n",
       "    <tr>\n",
       "      <th>37</th>\n",
       "      <td>2/23/2015</td>\n",
       "      <td>18</td>\n",
       "      <td>16</td>\n",
       "    </tr>\n",
       "    <tr>\n",
       "      <th>38</th>\n",
       "      <td>11/2/2015</td>\n",
       "      <td>20</td>\n",
       "      <td>0</td>\n",
       "    </tr>\n",
       "    <tr>\n",
       "      <th>39</th>\n",
       "      <td>3/4/2015</td>\n",
       "      <td>12</td>\n",
       "      <td>16</td>\n",
       "    </tr>\n",
       "    <tr>\n",
       "      <th>46</th>\n",
       "      <td>10/29/2015</td>\n",
       "      <td>16</td>\n",
       "      <td>0</td>\n",
       "    </tr>\n",
       "    <tr>\n",
       "      <th>47</th>\n",
       "      <td>2/20/2015</td>\n",
       "      <td>12</td>\n",
       "      <td>14</td>\n",
       "    </tr>\n",
       "    <tr>\n",
       "      <th>48</th>\n",
       "      <td>2/20/2015</td>\n",
       "      <td>18</td>\n",
       "      <td>16</td>\n",
       "    </tr>\n",
       "    <tr>\n",
       "      <th>49</th>\n",
       "      <td>2/20/2015</td>\n",
       "      <td>12</td>\n",
       "      <td>14</td>\n",
       "    </tr>\n",
       "    <tr>\n",
       "      <th>50</th>\n",
       "      <td>2/20/2015</td>\n",
       "      <td>20</td>\n",
       "      <td>14</td>\n",
       "    </tr>\n",
       "  </tbody>\n",
       "</table>\n",
       "</div>"
      ],
      "text/plain": [
       "   modification_date  install_dockcount  current_dockcount\n",
       "7          11/9/2015                 20                 18\n",
       "10          8/9/2016                 16                  0\n",
       "12         2/24/2015                 18                 20\n",
       "17         2/24/2015                 28                 26\n",
       "22         3/24/2015                 30                 24\n",
       "23         3/27/2015                 12                 16\n",
       "26         3/18/2016                 16                  0\n",
       "31         2/24/2015                 18                 20\n",
       "35         3/13/2015                 12                 20\n",
       "37         2/23/2015                 18                 16\n",
       "38         11/2/2015                 20                  0\n",
       "39          3/4/2015                 12                 16\n",
       "46        10/29/2015                 16                  0\n",
       "47         2/20/2015                 12                 14\n",
       "48         2/20/2015                 18                 16\n",
       "49         2/20/2015                 12                 14\n",
       "50         2/20/2015                 20                 14"
      ]
     },
     "execution_count": 19,
     "metadata": {},
     "output_type": "execute_result"
    }
   ],
   "source": [
    "modify = df1[['modification_date','install_dockcount','current_dockcount']].dropna()\n",
    "modify"
   ]
  },
  {
   "cell_type": "code",
   "execution_count": 20,
   "id": "3715e8e3-d3f9-490b-83b0-c086d7c2647d",
   "metadata": {},
   "outputs": [
    {
     "data": {
      "text/plain": [
       "-64"
      ]
     },
     "execution_count": 20,
     "metadata": {},
     "output_type": "execute_result"
    }
   ],
   "source": [
    "sum_current = modify['current_dockcount'].sum()\n",
    "sum_install = modify['install_dockcount'].sum()\n",
    "sum_current-sum_install"
   ]
  },
  {
   "cell_type": "markdown",
   "id": "f5516fc5-5a1e-4956-ba0d-8488bc9bd373",
   "metadata": {},
   "source": [
    "#### its lose 64$"
   ]
  },
  {
   "cell_type": "markdown",
   "id": "c653c1c0-7b87-42e4-9e99-6fd317b4579a",
   "metadata": {},
   "source": []
  }
 ],
 "metadata": {
  "kernelspec": {
   "display_name": "Python 3",
   "language": "python",
   "name": "python3"
  },
  "language_info": {
   "codemirror_mode": {
    "name": "ipython",
    "version": 3
   },
   "file_extension": ".py",
   "mimetype": "text/x-python",
   "name": "python",
   "nbconvert_exporter": "python",
   "pygments_lexer": "ipython3",
   "version": "3.9.4"
  }
 },
 "nbformat": 4,
 "nbformat_minor": 5
}
